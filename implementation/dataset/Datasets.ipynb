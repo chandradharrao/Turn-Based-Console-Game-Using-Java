{
 "cells": [
  {
   "cell_type": "code",
   "execution_count": 1,
   "id": "f7d752ca",
   "metadata": {},
   "outputs": [],
   "source": [
    "import pandas as pd"
   ]
  },
  {
   "cell_type": "code",
   "execution_count": 13,
   "id": "2c9f6651",
   "metadata": {},
   "outputs": [],
   "source": [
    "move_files = ['Fire_moves.csv','Water_moves.csv','Grass_moves.csv']\n",
    "for file in move_files:\n",
    "    df = pd.read_csv(file, usecols=['Name', 'Type', 'Power', 'PP'])\n",
    "    df.Power = df.Power.replace('-',25)\n",
    "    df['Type'] = df['Type'].apply(str.lower)\n",
    "    df.insert(0,\"ID\", range(1,1+len(df)))\n",
    "    df.to_csv(file, index=False)"
   ]
  },
  {
   "cell_type": "code",
   "execution_count": 14,
   "id": "9aa7c4ce",
   "metadata": {},
   "outputs": [],
   "source": [
    "poke_files = ['fire_pokemon.csv','water_pokemon.csv','grass_pokemon.csv']\n",
    "for file in poke_files:\n",
    "    df = pd.read_csv(file)\n",
    "    df.insert(0,\"ID\", range(1,1+len(df)))\n",
    "    df.to_csv(file, index=False)"
   ]
  },
  {
   "cell_type": "code",
   "execution_count": null,
   "id": "ecfcdbde",
   "metadata": {},
   "outputs": [],
   "source": []
  }
 ],
 "metadata": {
  "kernelspec": {
   "display_name": "Python 3 (ipykernel)",
   "language": "python",
   "name": "python3"
  },
  "language_info": {
   "codemirror_mode": {
    "name": "ipython",
    "version": 3
   },
   "file_extension": ".py",
   "mimetype": "text/x-python",
   "name": "python",
   "nbconvert_exporter": "python",
   "pygments_lexer": "ipython3",
   "version": "3.9.10"
  }
 },
 "nbformat": 4,
 "nbformat_minor": 5
}
